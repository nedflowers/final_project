{
  "nbformat": 4,
  "nbformat_minor": 0,
  "metadata": {
    "colab": {
      "name": "FinalProjectCSV-DBInsert-DBClean-DBRead-DataClean-MachineLearning.ipynb",
      "provenance": [],
      "collapsed_sections": []
    },
    "kernelspec": {
      "name": "python3",
      "display_name": "Python 3"
    },
    "language_info": {
      "name": "python"
    }
  },
  "cells": [
    {
      "cell_type": "code",
      "execution_count": 3,
      "metadata": {
        "colab": {
          "base_uri": "https://localhost:8080/"
        },
        "id": "7J_9wLXRMwvU",
        "outputId": "d1bb14fd-fdb4-43ac-98b2-89ce439e4ddf"
      },
      "outputs": [
        {
          "output_type": "stream",
          "name": "stdout",
          "text": [
            "\r0% [Working]\r            \rHit:1 https://developer.download.nvidia.com/compute/cuda/repos/ubuntu1804/x86_64  InRelease\n",
            "\r0% [Connecting to archive.ubuntu.com] [Connecting to security.ubuntu.com] [Wait\r                                                                               \rGet:2 https://cloud.r-project.org/bin/linux/ubuntu bionic-cran40/ InRelease [3,626 B]\n",
            "\r0% [Connecting to archive.ubuntu.com (185.125.190.39)] [Connecting to security.\r0% [1 InRelease gpgv 1,581 B] [Connecting to archive.ubuntu.com (185.125.190.39\r                                                                               \rGet:3 http://security.ubuntu.com/ubuntu bionic-security InRelease [88.7 kB]\n",
            "\r0% [1 InRelease gpgv 1,581 B] [Connecting to archive.ubuntu.com (185.125.190.39\r                                                                               \rIgn:4 https://developer.download.nvidia.com/compute/machine-learning/repos/ubuntu1804/x86_64  InRelease\n",
            "Hit:5 https://developer.download.nvidia.com/compute/machine-learning/repos/ubuntu1804/x86_64  Release\n",
            "Hit:6 http://ppa.launchpad.net/c2d4u.team/c2d4u4.0+/ubuntu bionic InRelease\n",
            "Hit:7 http://archive.ubuntu.com/ubuntu bionic InRelease\n",
            "Get:8 http://archive.ubuntu.com/ubuntu bionic-updates InRelease [88.7 kB]\n",
            "Hit:9 http://ppa.launchpad.net/cran/libgit2/ubuntu bionic InRelease\n",
            "Hit:10 http://ppa.launchpad.net/deadsnakes/ppa/ubuntu bionic InRelease\n",
            "Get:12 http://archive.ubuntu.com/ubuntu bionic-backports InRelease [74.6 kB]\n",
            "Get:13 http://ppa.launchpad.net/graphics-drivers/ppa/ubuntu bionic InRelease [21.3 kB]\n",
            "Get:14 http://security.ubuntu.com/ubuntu bionic-security/restricted amd64 Packages [932 kB]\n",
            "Get:15 http://security.ubuntu.com/ubuntu bionic-security/multiverse amd64 Packages [22.8 kB]\n",
            "Get:16 http://security.ubuntu.com/ubuntu bionic-security/universe amd64 Packages [1,503 kB]\n",
            "Get:17 http://security.ubuntu.com/ubuntu bionic-security/main amd64 Packages [2,765 kB]\n",
            "Get:18 http://archive.ubuntu.com/ubuntu bionic-updates/multiverse amd64 Packages [29.8 kB]\n",
            "Get:19 http://archive.ubuntu.com/ubuntu bionic-updates/restricted amd64 Packages [966 kB]\n",
            "Get:20 http://ppa.launchpad.net/graphics-drivers/ppa/ubuntu bionic/main amd64 Packages [44.3 kB]\n",
            "Get:21 http://archive.ubuntu.com/ubuntu bionic-updates/main amd64 Packages [3,199 kB]\n",
            "Get:22 http://archive.ubuntu.com/ubuntu bionic-updates/universe amd64 Packages [2,277 kB]\n",
            "Fetched 12.0 MB in 4s (3,357 kB/s)\n",
            "Reading package lists... Done\n"
          ]
        }
      ],
      "source": [
        "import os\n",
        "# Find the latest version of spark 3.0 from http://www.apache.org/dist/spark/ and enter as the spark version\n",
        "# For example:\n",
        "# spark_version = 'spark-3.0.3'\n",
        "spark_version = 'spark-3.2.1'\n",
        "os.environ['SPARK_VERSION']=spark_version\n",
        "\n",
        "# Install Spark and Java\n",
        "!apt-get update\n",
        "!apt-get install openjdk-11-jdk-headless -qq > /dev/null\n",
        "!wget -q http://www.apache.org/dist/spark/$SPARK_VERSION/$SPARK_VERSION-bin-hadoop2.7.tgz\n",
        "!tar xf $SPARK_VERSION-bin-hadoop2.7.tgz\n",
        "!pip install -q findspark\n",
        "\n",
        "# Set Environment Variables\n",
        "import os\n",
        "os.environ[\"JAVA_HOME\"] = \"/usr/lib/jvm/java-11-openjdk-amd64\"\n",
        "os.environ[\"SPARK_HOME\"] = f\"/content/{spark_version}-bin-hadoop2.7\"\n",
        "\n",
        "# Start a SparkSession\n",
        "import findspark\n",
        "findspark.init()"
      ]
    },
    {
      "cell_type": "code",
      "source": [
        "!wget https://jdbc.postgresql.org/download/postgresql-42.2.16.jar"
      ],
      "metadata": {
        "colab": {
          "base_uri": "https://localhost:8080/"
        },
        "id": "4YGom29LM7TP",
        "outputId": "6695ba21-1404-4f0c-e316-2e2074c9eb37"
      },
      "execution_count": 4,
      "outputs": [
        {
          "output_type": "stream",
          "name": "stdout",
          "text": [
            "--2022-05-23 03:25:25--  https://jdbc.postgresql.org/download/postgresql-42.2.16.jar\n",
            "Resolving jdbc.postgresql.org (jdbc.postgresql.org)... 72.32.157.228, 2001:4800:3e1:1::228\n",
            "Connecting to jdbc.postgresql.org (jdbc.postgresql.org)|72.32.157.228|:443... connected.\n",
            "HTTP request sent, awaiting response... 200 OK\n",
            "Length: 1002883 (979K) [application/java-archive]\n",
            "Saving to: ‘postgresql-42.2.16.jar’\n",
            "\n",
            "postgresql-42.2.16. 100%[===================>] 979.38K  --.-KB/s    in 0.08s   \n",
            "\n",
            "2022-05-23 03:25:25 (11.4 MB/s) - ‘postgresql-42.2.16.jar’ saved [1002883/1002883]\n",
            "\n"
          ]
        }
      ]
    },
    {
      "cell_type": "code",
      "source": [
        "from pyspark.sql import SparkSession\n",
        "spark = SparkSession.builder.appName(\"CloudETL\").config(\"spark.driver.extraClassPath\",\"/content/postgresql-42.2.16.jar\").getOrCreate()"
      ],
      "metadata": {
        "id": "6VconWLwNI3Q"
      },
      "execution_count": 5,
      "outputs": []
    },
    {
      "cell_type": "code",
      "source": [
        "#aws-fp20-instance.cchbtewatphd.us-west-2.rds.amazonaws.com\n",
        "\n",
        "# Read in data from S3 Buckets\n",
        "from pyspark import SparkFiles\n",
        "url =\"https://myosus32022buk.s3.amazonaws.com/census_estimates.csv\"\n",
        "spark.sparkContext.addFile(url)\n",
        "CountyPop_df = spark.read.csv(SparkFiles.get(\"census_estimates.csv\"), sep=\",\", header=True, inferSchema=True)\n"
      ],
      "metadata": {
        "id": "pcKrZid_QIxZ"
      },
      "execution_count": 6,
      "outputs": []
    },
    {
      "cell_type": "code",
      "source": [
        "CountyPop_df.show()"
      ],
      "metadata": {
        "colab": {
          "base_uri": "https://localhost:8080/"
        },
        "id": "6Lga_CQQXlIb",
        "outputId": "48376e4e-1715-4008-f587-fe1f1da427a3"
      },
      "execution_count": 7,
      "outputs": [
        {
          "output_type": "stream",
          "name": "stdout",
          "text": [
            "+------------+----------------------------------------+------------------------------------------+---------------------------+------------------------+----+----+----+----+----+----+----+----+----+----+\n",
            "|         _c0|Revised Population Estimate July 1, 2020|Certified Population Estimate July 1, 2021|Population Change 2020-2021|Percent Change 2020-2021| _c5| _c6| _c7| _c8| _c9|_c10|_c11|_c12|_c13|_c14|\n",
            "+------------+----------------------------------------+------------------------------------------+---------------------------+------------------------+----+----+----+----+----+----+----+----+----+----+\n",
            "|     Oregon |                               4,243,791|                                 4,266,560|                     22,769|                   0.54%|null|null|null|null|null|null|null|null|null|null|\n",
            "|      BAKER |                                  16,721|                                    16,860|                        139|                   0.83%|null|null|null|null|null|null|null|null|null|null|\n",
            "|     BENTON |                                  95,316|                                    93,976|                     -1,340|                  -1.41%|null|null|null|null|null|null|null|null|null|null|\n",
            "|  CLACKAMAS |                                 422,185|                                   425,316|                      3,131|                   0.74%|null|null|null|null|null|null|null|null|null|null|\n",
            "|    CLATSOP |                                  41,137|                                    41,428|                        291|                   0.71%|null|null|null|null|null|null|null|null|null|null|\n",
            "|   COLUMBIA |                                  52,748|                                    53,014|                        266|                   0.50%|null|null|null|null|null|null|null|null|null|null|\n",
            "|       COOS |                                  64,958|                                    65,154|                        196|                   0.30%|null|null|null|null|null|null|null|null|null|null|\n",
            "|      CROOK |                                  24,866|                                    25,482|                        616|                   2.48%|null|null|null|null|null|null|null|null|null|null|\n",
            "|      CURRY |                                  23,510|                                    23,662|                        152|                   0.65%|null|null|null|null|null|null|null|null|null|null|\n",
            "|  DESCHUTES |                                 199,259|                                   203,390|                      4,131|                   2.07%|null|null|null|null|null|null|null|null|null|null|\n",
            "|    DOUGLAS |                                 111,214|                                   111,694|                        480|                   0.43%|null|null|null|null|null|null|null|null|null|null|\n",
            "|    GILLIAM |                                   1,995|                                     2,039|                         44|                   2.21%|null|null|null|null|null|null|null|null|null|null|\n",
            "|      GRANT |                                   7,239|                                     7,226|                        -13|                  -0.18%|null|null|null|null|null|null|null|null|null|null|\n",
            "|     HARNEY |                                   7,497|                                     7,537|                         40|                   0.53%|null|null|null|null|null|null|null|null|null|null|\n",
            "| HOOD RIVER |                                  23,949|                                    23,888|                        -61|                  -0.25%|null|null|null|null|null|null|null|null|null|null|\n",
            "|    JACKSON |                                 223,521|                                   223,827|                        306|                   0.14%|null|null|null|null|null|null|null|null|null|null|\n",
            "|  JEFFERSON |                                  24,553|                                    24,889|                        336|                   1.37%|null|null|null|null|null|null|null|null|null|null|\n",
            "|  JOSEPHINE |                                  88,204|                                    88,728|                        524|                   0.59%|null|null|null|null|null|null|null|null|null|null|\n",
            "|    KLAMATH |                                  69,512|                                    69,822|                        310|                   0.45%|null|null|null|null|null|null|null|null|null|null|\n",
            "|       LAKE |                                   8,165|                                     8,177|                         12|                   0.15%|null|null|null|null|null|null|null|null|null|null|\n",
            "+------------+----------------------------------------+------------------------------------------+---------------------------+------------------------+----+----+----+----+----+----+----+----+----+----+\n",
            "only showing top 20 rows\n",
            "\n"
          ]
        }
      ]
    },
    {
      "cell_type": "code",
      "source": [
        "url =\"https://myosus32022buk.s3.amazonaws.com/County%20Product%20Trend_Full%20Data_data.csv\"\n",
        "spark.sparkContext.addFile(url)\n",
        "CountyProductData_df = spark.read.csv(SparkFiles.get(\"County Product Trend_Full Data_data.csv\"), sep=\",\", header=True, inferSchema=True)\n",
        "\n",
        "# Show DataFrame\n",
        "CountyProductData_df.show()"
      ],
      "metadata": {
        "colab": {
          "base_uri": "https://localhost:8080/"
        },
        "id": "ZLFBTQdkXze7",
        "outputId": "5db607bc-0de2-496e-9252-9a2a352c174c"
      },
      "execution_count": 8,
      "outputs": [
        {
          "output_type": "stream",
          "name": "stdout",
          "text": [
            "+---------+-------------------+---------+----------+----------+------------+-------------------+--------+------------+\n",
            "|     Date|       Product Type|   County|Month Name|Month Year|Tooltip Date|Market Share County|   Sales|Sales Detail|\n",
            "+---------+-------------------+---------+----------+----------+------------+-------------------+--------+------------+\n",
            "|10/1/2016|          Usable MJ|    Baker|   October| 10/1/2016|October 2016|              100.0|58637.51|    58637.51|\n",
            "|10/1/2016|          Usable MJ|    Baker|   October| 10/1/2016|October 2016|              100.0|   441.0|       441.0|\n",
            "|10/1/2016|Concentrate/Extract|Clackamas|   October| 10/1/2016|October 2016|              15.14|   803.2|       803.2|\n",
            "|10/1/2016|    Edible/Tincture|Clackamas|   October| 10/1/2016|October 2016|               9.31|  359.68|      359.68|\n",
            "|10/1/2016|              Other|Clackamas|   October| 10/1/2016|October 2016|               1.13|    30.0|        30.0|\n",
            "|10/1/2016|          Usable MJ|Clackamas|   October| 10/1/2016|October 2016|              74.42| 4416.94|     4416.94|\n",
            "|10/1/2016|Concentrate/Extract|Clackamas|   October| 10/1/2016|October 2016|              15.14|   144.0|       144.0|\n",
            "|10/1/2016|    Edible/Tincture|Clackamas|   October| 10/1/2016|October 2016|               9.31|  223.05|      223.05|\n",
            "|10/1/2016|              Other|Clackamas|   October| 10/1/2016|October 2016|               1.13|    40.5|        40.5|\n",
            "|10/1/2016|          Usable MJ|Clackamas|   October| 10/1/2016|October 2016|              74.42|   238.8|       238.8|\n",
            "|10/1/2016|Concentrate/Extract|  Clatsop|   October| 10/1/2016|October 2016|              19.55| 10808.0|     10808.0|\n",
            "|10/1/2016|    Edible/Tincture|  Clatsop|   October| 10/1/2016|October 2016|               5.61|  3177.0|      3177.0|\n",
            "|10/1/2016|              Other|  Clatsop|   October| 10/1/2016|October 2016|               1.79|  1014.0|      1014.0|\n",
            "|10/1/2016|          Usable MJ|  Clatsop|   October| 10/1/2016|October 2016|              73.04|42128.05|    42128.05|\n",
            "|10/1/2016|Concentrate/Extract|  Clatsop|   October| 10/1/2016|October 2016|              19.55|  2249.0|      2249.0|\n",
            "|10/1/2016|    Edible/Tincture|  Clatsop|   October| 10/1/2016|October 2016|               5.61|   570.5|       570.5|\n",
            "|10/1/2016|              Other|  Clatsop|   October| 10/1/2016|October 2016|               1.79|   184.0|       184.0|\n",
            "|10/1/2016|          Usable MJ|  Clatsop|   October| 10/1/2016|October 2016|              73.04| 6653.24|     6653.24|\n",
            "|10/1/2016|Concentrate/Extract|Deschutes|   October| 10/1/2016|October 2016|              12.36| 9588.78|     9588.78|\n",
            "|10/1/2016|    Edible/Tincture|Deschutes|   October| 10/1/2016|October 2016|               8.56| 6546.11|     6546.11|\n",
            "+---------+-------------------+---------+----------+----------+------------+-------------------+--------+------------+\n",
            "only showing top 20 rows\n",
            "\n"
          ]
        }
      ]
    },
    {
      "cell_type": "code",
      "source": [
        "# Store environmental variable\n",
        "from getpass import getpass\n",
        "password = getpass('Enter database password')\n",
        "# Configure settings for RDS\n",
        "mode = \"append\"\n",
        "#aws-fp20-instance.cchbtewatphd.us-west-2.rds.amazonaws.com\n",
        "jdbc_url=\"jdbc:postgresql://aws-fp20-instance.cchbtewatphd.us-west-2.rds.amazonaws.com:5432/AWSFP20\"\n",
        "config = {\"user\":\"postgres\",\n",
        "        \"password\": password,\n",
        "        \"driver\":\"org.postgresql.Driver\"}\n",
        "\n"
      ],
      "metadata": {
        "id": "tW4kN-3A64WP",
        "colab": {
          "base_uri": "https://localhost:8080/"
        },
        "outputId": "dbf74c66-ce2e-4c10-c971-204d25477f85"
      },
      "execution_count": 12,
      "outputs": [
        {
          "name": "stdout",
          "output_type": "stream",
          "text": [
            "Enter database password··········\n"
          ]
        }
      ]
    },
    {
      "cell_type": "code",
      "source": [
        "# Write DataFrame to CountyPop table in RDS\n",
        "CountyPop_df.write.jdbc(url=jdbc_url, table='CountyPopTest', mode=mode, properties=config)\n"
      ],
      "metadata": {
        "id": "ahqrLUFf67aU"
      },
      "execution_count": 13,
      "outputs": []
    },
    {
      "cell_type": "code",
      "source": [
        "# Write DataFrame to CanabisData table in RDS\n",
        "CountyProductData_df.write.jdbc(url=jdbc_url, table='CanabisData', mode=mode, properties=config)\n"
      ],
      "metadata": {
        "id": "yyphYd8i677c"
      },
      "execution_count": null,
      "outputs": []
    },
    {
      "cell_type": "code",
      "source": [
        ""
      ],
      "metadata": {
        "id": "tWMQ5sLY68GL"
      },
      "execution_count": null,
      "outputs": []
    },
    {
      "cell_type": "code",
      "source": [
        ""
      ],
      "metadata": {
        "id": "6NVjr3Hl68QU"
      },
      "execution_count": null,
      "outputs": []
    },
    {
      "cell_type": "code",
      "source": [
        ""
      ],
      "metadata": {
        "id": "VSGgbFeW68bF"
      },
      "execution_count": null,
      "outputs": []
    },
    {
      "cell_type": "code",
      "source": [
        ""
      ],
      "metadata": {
        "id": "VjHcfiP868nz"
      },
      "execution_count": null,
      "outputs": []
    },
    {
      "cell_type": "code",
      "source": [
        ""
      ],
      "metadata": {
        "id": "Cws3ns3968yj"
      },
      "execution_count": null,
      "outputs": []
    },
    {
      "cell_type": "code",
      "source": [
        ""
      ],
      "metadata": {
        "id": "vjafFvmn68-K"
      },
      "execution_count": null,
      "outputs": []
    },
    {
      "cell_type": "code",
      "source": [
        ""
      ],
      "metadata": {
        "id": "Ykrr-riS69Jb"
      },
      "execution_count": null,
      "outputs": []
    },
    {
      "cell_type": "code",
      "source": [
        ""
      ],
      "metadata": {
        "id": "wFwOB-Bj69Us"
      },
      "execution_count": null,
      "outputs": []
    },
    {
      "cell_type": "code",
      "source": [
        ""
      ],
      "metadata": {
        "id": "ThVxqDud69oE"
      },
      "execution_count": null,
      "outputs": []
    },
    {
      "cell_type": "code",
      "source": [
        ""
      ],
      "metadata": {
        "id": "gMUO_2cK65FN"
      },
      "execution_count": null,
      "outputs": []
    },
    {
      "cell_type": "code",
      "source": [
        ""
      ],
      "metadata": {
        "id": "ZvB8s60f66my"
      },
      "execution_count": null,
      "outputs": []
    },
    {
      "cell_type": "code",
      "source": [
        "# Join the two DataFrame\n",
        "joined_df = user_data_df.join(user_payment_df, on=\"username\", how=\"inner\")\n",
        "joined_df.show()\n"
      ],
      "metadata": {
        "colab": {
          "base_uri": "https://localhost:8080/"
        },
        "id": "WqS8uaQUYDwL",
        "outputId": "6de723a0-1562-4369-f89d-60b84bfda137"
      },
      "execution_count": null,
      "outputs": [
        {
          "output_type": "stream",
          "name": "stdout",
          "text": [
            "+------------+---+----------+---------+-----------+--------------------+--------------------+----------+--------------------+\n",
            "|    username| id|first_name|last_name|active_user|      street_address|               state|billing_id|        cc_encrypted|\n",
            "+------------+---+----------+---------+-----------+--------------------+--------------------+----------+--------------------+\n",
            "|   ibearham0|  1|    Cletus|  Lithcow|      false| 78309 Riverside Way|            Virginia|         1|a799fcafe47d7fb19...|\n",
            "|    wwaller1|  2|       Caz|   Felgat|      false| 83 Hazelcrest Place|             Alabama|         2|a799fcafe47d7fb19...|\n",
            "|   ichesnut2|  3|     Kerri|  Crowson|      false|      112 Eliot Pass|      North Carolina|         3|a799fcafe47d7fb19...|\n",
            "|     tsnarr3|  4|   Freddie|    Caghy|      false|     15 Merchant Way|            New York|         4|a799fcafe47d7fb19...|\n",
            "|   fwherrit4|  5|   Sadella|    Deuss|      false|    079 Acker Avenue|           Tennessee|         5|a799fcafe47d7fb19...|\n",
            "|  fstappard5|  6|    Fraser|  Korneev|       true|  76084 Novick Court|           Minnesota|         6|a799fcafe47d7fb19...|\n",
            "|  lhambling6|  7|    Demott|   Rapson|       true|    86320 Dahle Park|District of Columbia|         7|a799fcafe47d7fb19...|\n",
            "|      drude7|  8|    Robert|    Poile|      false|1540 Manitowish Hill|             Georgia|         8|a799fcafe47d7fb19...|\n",
            "|   bspawton8|  9|    Nollie|     null|       true|       4 Katie Court|                Ohio|         9|a799fcafe47d7fb19...|\n",
            "| rmackeller9| 10|   Merilyn| Frascone|      false|     387 Duke Street|                Ohio|        10|a799fcafe47d7fb19...|\n",
            "| cdennerleya| 11|    Rickie| Tredwell|      false|  04 Monterey Center|            Missouri|        11|a799fcafe47d7fb19...|\n",
            "|    gsarfasb| 12|  Charmane| Connerry|      false|    0 Larry Junction|             Florida|        12|a799fcafe47d7fb19...|\n",
            "| mpichefordc| 13|     Nerti|   Kerins|      false|    68 Portage Trail|          California|        13|a799fcafe47d7fb19...|\n",
            "|     bingryd| 14|      Bart|     null|      false|    8 Homewood Court|District of Columbia|        14|a799fcafe47d7fb19...|\n",
            "|   wheinerte| 15|   Sadella|    Jaram|       true|7528 Waxwing Terrace|         Connecticut|        15|a799fcafe47d7fb19...|\n",
            "|    mdrewetf| 16|     Dicky|  Runnett|      false|  1793 Delaware Park|             Florida|        16|a799fcafe47d7fb19...|\n",
            "|droughsedgeg| 17|    Hewitt|  Trammel|       true|    2455 Corry Alley|      North Carolina|        17|a799fcafe47d7fb19...|\n",
            "|     abaakeh| 18|  Gilligan|     Boys|      false|       2 Raven Court|             Florida|        18|a799fcafe47d7fb19...|\n",
            "|   ydudeniei| 19|       Ted|  Knowlys|       true|      31 South Drive|                Ohio|        19|a799fcafe47d7fb19...|\n",
            "|   ckermittj| 20|      Darb|   Carrel|      false|406 Park Meadow C...|           Minnesota|        20|a799fcafe47d7fb19...|\n",
            "+------------+---+----------+---------+-----------+--------------------+--------------------+----------+--------------------+\n",
            "only showing top 20 rows\n",
            "\n"
          ]
        }
      ]
    },
    {
      "cell_type": "code",
      "source": [
        ""
      ],
      "metadata": {
        "id": "xVHQ68GK63SE"
      },
      "execution_count": null,
      "outputs": []
    },
    {
      "cell_type": "code",
      "source": [
        "dropna_df = joined_df.dropna()\n",
        "dropna_df.show()"
      ],
      "metadata": {
        "colab": {
          "base_uri": "https://localhost:8080/"
        },
        "id": "vFFRz0lhY10q",
        "outputId": "a8272c26-1787-4144-c64c-c0068ffd26c2"
      },
      "execution_count": null,
      "outputs": [
        {
          "output_type": "stream",
          "name": "stdout",
          "text": [
            "+------------+---+----------+---------+-----------+--------------------+--------------------+----------+--------------------+\n",
            "|    username| id|first_name|last_name|active_user|      street_address|               state|billing_id|        cc_encrypted|\n",
            "+------------+---+----------+---------+-----------+--------------------+--------------------+----------+--------------------+\n",
            "|   ibearham0|  1|    Cletus|  Lithcow|      false| 78309 Riverside Way|            Virginia|         1|a799fcafe47d7fb19...|\n",
            "|    wwaller1|  2|       Caz|   Felgat|      false| 83 Hazelcrest Place|             Alabama|         2|a799fcafe47d7fb19...|\n",
            "|   ichesnut2|  3|     Kerri|  Crowson|      false|      112 Eliot Pass|      North Carolina|         3|a799fcafe47d7fb19...|\n",
            "|     tsnarr3|  4|   Freddie|    Caghy|      false|     15 Merchant Way|            New York|         4|a799fcafe47d7fb19...|\n",
            "|   fwherrit4|  5|   Sadella|    Deuss|      false|    079 Acker Avenue|           Tennessee|         5|a799fcafe47d7fb19...|\n",
            "|  fstappard5|  6|    Fraser|  Korneev|       true|  76084 Novick Court|           Minnesota|         6|a799fcafe47d7fb19...|\n",
            "|  lhambling6|  7|    Demott|   Rapson|       true|    86320 Dahle Park|District of Columbia|         7|a799fcafe47d7fb19...|\n",
            "|      drude7|  8|    Robert|    Poile|      false|1540 Manitowish Hill|             Georgia|         8|a799fcafe47d7fb19...|\n",
            "| rmackeller9| 10|   Merilyn| Frascone|      false|     387 Duke Street|                Ohio|        10|a799fcafe47d7fb19...|\n",
            "| cdennerleya| 11|    Rickie| Tredwell|      false|  04 Monterey Center|            Missouri|        11|a799fcafe47d7fb19...|\n",
            "|    gsarfasb| 12|  Charmane| Connerry|      false|    0 Larry Junction|             Florida|        12|a799fcafe47d7fb19...|\n",
            "| mpichefordc| 13|     Nerti|   Kerins|      false|    68 Portage Trail|          California|        13|a799fcafe47d7fb19...|\n",
            "|   wheinerte| 15|   Sadella|    Jaram|       true|7528 Waxwing Terrace|         Connecticut|        15|a799fcafe47d7fb19...|\n",
            "|    mdrewetf| 16|     Dicky|  Runnett|      false|  1793 Delaware Park|             Florida|        16|a799fcafe47d7fb19...|\n",
            "|droughsedgeg| 17|    Hewitt|  Trammel|       true|    2455 Corry Alley|      North Carolina|        17|a799fcafe47d7fb19...|\n",
            "|     abaakeh| 18|  Gilligan|     Boys|      false|       2 Raven Court|             Florida|        18|a799fcafe47d7fb19...|\n",
            "|   ydudeniei| 19|       Ted|  Knowlys|       true|      31 South Drive|                Ohio|        19|a799fcafe47d7fb19...|\n",
            "|   ckermittj| 20|      Darb|   Carrel|      false|406 Park Meadow C...|           Minnesota|        20|a799fcafe47d7fb19...|\n",
            "|     ipowisk| 21|   Diandra|Cancellor|      false|      1 Fisk Parkway|      North Carolina|        21|a799fcafe47d7fb19...|\n",
            "|    dtaltonl| 22|    Ulrika| Itzhayek|      false|  890 Lakewood Alley|          California|        22|a799fcafe47d7fb19...|\n",
            "+------------+---+----------+---------+-----------+--------------------+--------------------+----------+--------------------+\n",
            "only showing top 20 rows\n",
            "\n"
          ]
        }
      ]
    },
    {
      "cell_type": "code",
      "source": [
        "from pyspark.sql.functions import col\n",
        "\n",
        "cleaned_df = dropna_df.filter(col(\"active_user\") ==True)"
      ],
      "metadata": {
        "id": "nHD90LirZWa7"
      },
      "execution_count": null,
      "outputs": []
    },
    {
      "cell_type": "code",
      "source": [
        "cleaned_df.show()"
      ],
      "metadata": {
        "colab": {
          "base_uri": "https://localhost:8080/"
        },
        "id": "cKeZP1aKZm4z",
        "outputId": "17342201-fa1a-4994-f81a-5288c6419000"
      },
      "execution_count": null,
      "outputs": [
        {
          "output_type": "stream",
          "name": "stdout",
          "text": [
            "+-------------+---+----------+-----------+-----------+--------------------+--------------------+----------+--------------------+\n",
            "|     username| id|first_name|  last_name|active_user|      street_address|               state|billing_id|        cc_encrypted|\n",
            "+-------------+---+----------+-----------+-----------+--------------------+--------------------+----------+--------------------+\n",
            "|   fstappard5|  6|    Fraser|    Korneev|       true|  76084 Novick Court|           Minnesota|         6|a799fcafe47d7fb19...|\n",
            "|   lhambling6|  7|    Demott|     Rapson|       true|    86320 Dahle Park|District of Columbia|         7|a799fcafe47d7fb19...|\n",
            "|    wheinerte| 15|   Sadella|      Jaram|       true|7528 Waxwing Terrace|         Connecticut|        15|a799fcafe47d7fb19...|\n",
            "| droughsedgeg| 17|    Hewitt|    Trammel|       true|    2455 Corry Alley|      North Carolina|        17|a799fcafe47d7fb19...|\n",
            "|    ydudeniei| 19|       Ted|    Knowlys|       true|      31 South Drive|                Ohio|        19|a799fcafe47d7fb19...|\n",
            "|     fmyttonm| 23|  Annmarie|     Lafond|       true|     35 Oriole Place|             Georgia|        23|a799fcafe47d7fb19...|\n",
            "|   bfletcherr| 28|      Toma|     Sokell|       true|39641 Eggendart Hill|            Maryland|        28|a799fcafe47d7fb19...|\n",
            "|     gturleyt| 30|       Ram|    Lefever|       true|   9969 Laurel Alley|               Texas|        30|a799fcafe47d7fb19...|\n",
            "|    calyukinu| 31|    Raddie|    Heindle|       true|   811 Talmadge Road|                Ohio|        31|a799fcafe47d7fb19...|\n",
            "| ckleinlererw| 33|    Wallie|       Caws|       true|   9999 Kenwood Pass|              Oregon|        33|a799fcafe47d7fb19...|\n",
            "|  pshanklandx| 34|    Derril|Varfolomeev|       true|     4 Jenifer Court|             Florida|        34|a799fcafe47d7fb19...|\n",
            "|    enelane12| 39|     Kelcy|     Wheway|       true|93207 Morningstar...|             Florida|        39|a799fcafe47d7fb19...|\n",
            "|    sfollet13| 40|    Dorree|    Rookeby|       true|       2 Troy Circle|          California|        40|a799fcafe47d7fb19...|\n",
            "|      mtesh14| 41|    Martyn|       Tott|       true|       728 Muir Lane|             Florida|        41|a799fcafe47d7fb19...|\n",
            "|   tseyfart16| 43|     Cally|      Thody|       true|   1 Graceland Plaza|             Florida|        43|a799fcafe47d7fb19...|\n",
            "|   hfarrier18| 45|       Ted|   Pittaway|       true|767 Little Fleur ...|      North Carolina|        45|a799fcafe47d7fb19...|\n",
            "|     nabbie1b| 48|      Fifi|    Lidgley|       true|6744 Sutherland Road|      South Carolina|        48|a799fcafe47d7fb19...|\n",
            "|  ystadding1d| 50|    Ashely|     O'Hern|       true|   929 Scoville Park|             Florida|        50|a799fcafe47d7fb19...|\n",
            "|hhallgalley1g| 53|   Diannne|Osbaldeston|       true|        0 Mesta Pass|           Tennessee|        53|a799fcafe47d7fb19...|\n",
            "|   ageaveny1n| 60|     Sonny|     Jeskin|       true| 50 Sutherland Drive|       Massachusetts|        60|a799fcafe47d7fb19...|\n",
            "+-------------+---+----------+-----------+-----------+--------------------+--------------------+----------+--------------------+\n",
            "only showing top 20 rows\n",
            "\n"
          ]
        }
      ]
    },
    {
      "cell_type": "code",
      "source": [
        "clean_user_df = cleaned_df.select([\"id\", \"first_name\", \"last_name\", \"username\"])"
      ],
      "metadata": {
        "id": "2gGUOfc_ZppT"
      },
      "execution_count": null,
      "outputs": []
    },
    {
      "cell_type": "code",
      "source": [
        "clean_billing_df = cleaned_df.select([\"billing_id\", \"street_address\", \"state\", \"username\"])"
      ],
      "metadata": {
        "id": "RBiiWDiyaDRL"
      },
      "execution_count": null,
      "outputs": []
    },
    {
      "cell_type": "code",
      "source": [
        "clean_payment_df = cleaned_df.select([\"billing_id\", \"cc_encrypted\"])"
      ],
      "metadata": {
        "id": "AZMg4CxxdKLs"
      },
      "execution_count": null,
      "outputs": []
    },
    {
      "cell_type": "code",
      "source": [
        "# Store environmental variable\n",
        "from getpass import getpass\n",
        "password = getpass('Enter database password')\n",
        "# Configure settings for RDS\n",
        "mode = \"append\"\n",
        "jdbc_url=\"jdbc:postgresql://osuawsm16db.cchbtewatphd.us-west-2.rds.amazonaws.com:5432/my_data_class_db\"\n",
        "config = {\"user\":\"postgres\",\n",
        "        \"password\": password,\n",
        "        \"driver\":\"org.postgresql.Driver\"}\n",
        "\n"
      ],
      "metadata": {
        "colab": {
          "base_uri": "https://localhost:8080/"
        },
        "id": "ZZHV206mfrO9",
        "outputId": "f1bc7aed-c5a7-4de3-e27d-0e52bff1a424"
      },
      "execution_count": null,
      "outputs": [
        {
          "name": "stdout",
          "output_type": "stream",
          "text": [
            "Enter database password··········\n"
          ]
        }
      ]
    },
    {
      "cell_type": "code",
      "source": [
        "# Write DataFrame to active_user table in RDS\n",
        "clean_user_df.write.jdbc(url=jdbc_url, table='active_user', mode=mode, properties=config)\n",
        "\n",
        "# Write dataframe to billing_info table in RDS\n",
        "clean_billing_df.write.jdbc(url=jdbc_url, table='billing_info', mode=mode, properties=config)\n",
        "\n",
        "# Write dataframe to payment_info table in RDS\n",
        "clean_payment_df.write.jdbc(url=jdbc_url, table='payment_info', mode=mode, properties=config)\n",
        "\n",
        "\n"
      ],
      "metadata": {
        "id": "5223ooEYg_IV"
      },
      "execution_count": null,
      "outputs": []
    },
    {
      "cell_type": "code",
      "source": [
        ""
      ],
      "metadata": {
        "id": "N4KDcgh-lWmn"
      },
      "execution_count": null,
      "outputs": []
    },
    {
      "cell_type": "code",
      "source": [
        ""
      ],
      "metadata": {
        "id": "FnNON52SspmL"
      },
      "execution_count": null,
      "outputs": []
    }
  ]
}
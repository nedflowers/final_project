{
 "cells": [
  {
   "cell_type": "markdown",
   "id": "a42b0ebd",
   "metadata": {},
   "source": [
    "Basically we are plotting the sales over time, by county, and by product type. The model that will work best for us should be Linear Regression since sales over time is a continuous value... for the most part. (We could use Logistic Regression if we treat each sales number for each month, for each county, and for each product type as individual points. This is a model I will try out as well, once I can get Linear Regression to work. I can try out other models too, but for now the hard part is formatting the data to be used in a ML model.) \n",
    "\n",
    "We want to use the data we have to predict future sales by date, county and product type, based on previous sales by date, county and product type. To do this we must convert all data into numeric values the computer can use to generate a ML model. \n",
    "\n",
    "We need to scale and encode the data to convert it to numbers. Once the data has been encoded, we can split our preprocessed data into feature and target arrays. This is the part I am having difficulty with. Please feel free to look at the code and offer solutions. I worked on this for several hours yesterday and an other seveal today. I feel at this point I need help from someone else. I plan to look at this again tomorrow and will try to ask for help on Monday office hour before class if I (we) cannot solve it by then. ~Ryan 5.14 at 4:40pm."
   ]
  },
  {
   "cell_type": "code",
   "execution_count": 31,
   "id": "9431d878",
   "metadata": {},
   "outputs": [],
   "source": [
    "import pandas as pd\n",
    "import matplotlib.pyplot as plt\n",
    "from sklearn.model_selection import train_test_split\n",
    "from sklearn.preprocessing import StandardScaler,OneHotEncoder\n",
    "from sklearn.preprocessing import LabelEncoder\n",
    "from sklearn.linear_model import LinearRegression"
   ]
  },
  {
   "cell_type": "code",
   "execution_count": 18,
   "id": "bc206655",
   "metadata": {
    "scrolled": false
   },
   "outputs": [
    {
     "data": {
      "text/html": [
       "<div>\n",
       "<style scoped>\n",
       "    .dataframe tbody tr th:only-of-type {\n",
       "        vertical-align: middle;\n",
       "    }\n",
       "\n",
       "    .dataframe tbody tr th {\n",
       "        vertical-align: top;\n",
       "    }\n",
       "\n",
       "    .dataframe thead th {\n",
       "        text-align: right;\n",
       "    }\n",
       "</style>\n",
       "<table border=\"1\" class=\"dataframe\">\n",
       "  <thead>\n",
       "    <tr style=\"text-align: right;\">\n",
       "      <th></th>\n",
       "      <th>SalesMonthDate</th>\n",
       "      <th>Product Type</th>\n",
       "      <th>County</th>\n",
       "      <th>Market Share County</th>\n",
       "      <th>Sales</th>\n",
       "    </tr>\n",
       "  </thead>\n",
       "  <tbody>\n",
       "    <tr>\n",
       "      <th>0</th>\n",
       "      <td>2016-10-01</td>\n",
       "      <td>Concentrate/Extract</td>\n",
       "      <td>Clackamas</td>\n",
       "      <td>15.14</td>\n",
       "      <td>947.20</td>\n",
       "    </tr>\n",
       "    <tr>\n",
       "      <th>1</th>\n",
       "      <td>2016-10-01</td>\n",
       "      <td>Concentrate/Extract</td>\n",
       "      <td>Clatsop</td>\n",
       "      <td>19.55</td>\n",
       "      <td>13057.00</td>\n",
       "    </tr>\n",
       "    <tr>\n",
       "      <th>2</th>\n",
       "      <td>2016-10-01</td>\n",
       "      <td>Concentrate/Extract</td>\n",
       "      <td>Deschutes</td>\n",
       "      <td>12.36</td>\n",
       "      <td>9763.45</td>\n",
       "    </tr>\n",
       "    <tr>\n",
       "      <th>3</th>\n",
       "      <td>2016-10-01</td>\n",
       "      <td>Concentrate/Extract</td>\n",
       "      <td>Hood River</td>\n",
       "      <td>21.23</td>\n",
       "      <td>23438.44</td>\n",
       "    </tr>\n",
       "    <tr>\n",
       "      <th>4</th>\n",
       "      <td>2016-10-01</td>\n",
       "      <td>Concentrate/Extract</td>\n",
       "      <td>Jackson</td>\n",
       "      <td>31.27</td>\n",
       "      <td>95346.45</td>\n",
       "    </tr>\n",
       "    <tr>\n",
       "      <th>...</th>\n",
       "      <td>...</td>\n",
       "      <td>...</td>\n",
       "      <td>...</td>\n",
       "      <td>...</td>\n",
       "      <td>...</td>\n",
       "    </tr>\n",
       "    <tr>\n",
       "      <th>9509</th>\n",
       "      <td>2022-04-01</td>\n",
       "      <td>Usable MJ</td>\n",
       "      <td>Umatilla</td>\n",
       "      <td>44.69</td>\n",
       "      <td>646336.81</td>\n",
       "    </tr>\n",
       "    <tr>\n",
       "      <th>9510</th>\n",
       "      <td>2022-04-01</td>\n",
       "      <td>Usable MJ</td>\n",
       "      <td>Wallowa</td>\n",
       "      <td>52.89</td>\n",
       "      <td>48779.53</td>\n",
       "    </tr>\n",
       "    <tr>\n",
       "      <th>9511</th>\n",
       "      <td>2022-04-01</td>\n",
       "      <td>Usable MJ</td>\n",
       "      <td>Wasco</td>\n",
       "      <td>48.13</td>\n",
       "      <td>178133.02</td>\n",
       "    </tr>\n",
       "    <tr>\n",
       "      <th>9512</th>\n",
       "      <td>2022-04-01</td>\n",
       "      <td>Usable MJ</td>\n",
       "      <td>Washington</td>\n",
       "      <td>47.34</td>\n",
       "      <td>4298767.33</td>\n",
       "    </tr>\n",
       "    <tr>\n",
       "      <th>9513</th>\n",
       "      <td>2022-04-01</td>\n",
       "      <td>Usable MJ</td>\n",
       "      <td>Yamhill</td>\n",
       "      <td>45.68</td>\n",
       "      <td>777254.09</td>\n",
       "    </tr>\n",
       "  </tbody>\n",
       "</table>\n",
       "<p>9514 rows × 5 columns</p>\n",
       "</div>"
      ],
      "text/plain": [
       "     SalesMonthDate         Product Type      County  Market Share County  \\\n",
       "0        2016-10-01  Concentrate/Extract   Clackamas                15.14   \n",
       "1        2016-10-01  Concentrate/Extract     Clatsop                19.55   \n",
       "2        2016-10-01  Concentrate/Extract   Deschutes                12.36   \n",
       "3        2016-10-01  Concentrate/Extract  Hood River                21.23   \n",
       "4        2016-10-01  Concentrate/Extract     Jackson                31.27   \n",
       "...             ...                  ...         ...                  ...   \n",
       "9509     2022-04-01            Usable MJ    Umatilla                44.69   \n",
       "9510     2022-04-01            Usable MJ     Wallowa                52.89   \n",
       "9511     2022-04-01            Usable MJ       Wasco                48.13   \n",
       "9512     2022-04-01            Usable MJ  Washington                47.34   \n",
       "9513     2022-04-01            Usable MJ     Yamhill                45.68   \n",
       "\n",
       "           Sales  \n",
       "0         947.20  \n",
       "1       13057.00  \n",
       "2        9763.45  \n",
       "3       23438.44  \n",
       "4       95346.45  \n",
       "...          ...  \n",
       "9509   646336.81  \n",
       "9510    48779.53  \n",
       "9511   178133.02  \n",
       "9512  4298767.33  \n",
       "9513   777254.09  \n",
       "\n",
       "[9514 rows x 5 columns]"
      ]
     },
     "execution_count": 18,
     "metadata": {},
     "output_type": "execute_result"
    }
   ],
   "source": [
    "#  Import and read the data\n",
    "cannabis_df = pd.read_csv(\"cleanCountyProductTrendData.csv\")\n",
    "cannabis_df"
   ]
  },
  {
   "cell_type": "code",
   "execution_count": 19,
   "id": "239bfc47",
   "metadata": {},
   "outputs": [
    {
     "data": {
      "text/plain": [
       "SalesMonthDate          object\n",
       "Product Type            object\n",
       "County                  object\n",
       "Market Share County    float64\n",
       "Sales                  float64\n",
       "dtype: object"
      ]
     },
     "execution_count": 19,
     "metadata": {},
     "output_type": "execute_result"
    }
   ],
   "source": [
    "# Look at dtypes to prep for encoding later\n",
    "cannabis_df.dtypes"
   ]
  },
  {
   "cell_type": "code",
   "execution_count": 20,
   "id": "edacf592",
   "metadata": {},
   "outputs": [
    {
     "data": {
      "text/plain": [
       "SalesMonthDate         datetime64[ns]\n",
       "Product Type                   object\n",
       "County                         object\n",
       "Market Share County           float64\n",
       "Sales                         float64\n",
       "dtype: object"
      ]
     },
     "execution_count": 20,
     "metadata": {},
     "output_type": "execute_result"
    }
   ],
   "source": [
    "# I thought this step was necessary to convert SalesMonthDate to a number.\n",
    "# I saw Brian's code to clean up the data and it looked like he did this already,\n",
    "# but as you can see above it is still listed as an object. \n",
    "\n",
    "# Convert DateTime from object to datetime64\n",
    "cannabis_df['SalesMonthDate'] = pd.to_datetime(cannabis_df[\"SalesMonthDate\"])\n",
    "cannabis_df.dtypes"
   ]
  },
  {
   "cell_type": "code",
   "execution_count": 21,
   "id": "ab12dc8d",
   "metadata": {},
   "outputs": [
    {
     "data": {
      "text/html": [
       "<div>\n",
       "<style scoped>\n",
       "    .dataframe tbody tr th:only-of-type {\n",
       "        vertical-align: middle;\n",
       "    }\n",
       "\n",
       "    .dataframe tbody tr th {\n",
       "        vertical-align: top;\n",
       "    }\n",
       "\n",
       "    .dataframe thead th {\n",
       "        text-align: right;\n",
       "    }\n",
       "</style>\n",
       "<table border=\"1\" class=\"dataframe\">\n",
       "  <thead>\n",
       "    <tr style=\"text-align: right;\">\n",
       "      <th></th>\n",
       "      <th>SalesMonthDate</th>\n",
       "      <th>ProductType</th>\n",
       "      <th>County</th>\n",
       "      <th>MarketShareCounty</th>\n",
       "      <th>Sales</th>\n",
       "    </tr>\n",
       "  </thead>\n",
       "  <tbody>\n",
       "    <tr>\n",
       "      <th>0</th>\n",
       "      <td>2016-10-01</td>\n",
       "      <td>Concentrate/Extract</td>\n",
       "      <td>Clackamas</td>\n",
       "      <td>15.14</td>\n",
       "      <td>947.20</td>\n",
       "    </tr>\n",
       "    <tr>\n",
       "      <th>1</th>\n",
       "      <td>2016-10-01</td>\n",
       "      <td>Concentrate/Extract</td>\n",
       "      <td>Clatsop</td>\n",
       "      <td>19.55</td>\n",
       "      <td>13057.00</td>\n",
       "    </tr>\n",
       "    <tr>\n",
       "      <th>2</th>\n",
       "      <td>2016-10-01</td>\n",
       "      <td>Concentrate/Extract</td>\n",
       "      <td>Deschutes</td>\n",
       "      <td>12.36</td>\n",
       "      <td>9763.45</td>\n",
       "    </tr>\n",
       "    <tr>\n",
       "      <th>3</th>\n",
       "      <td>2016-10-01</td>\n",
       "      <td>Concentrate/Extract</td>\n",
       "      <td>Hood River</td>\n",
       "      <td>21.23</td>\n",
       "      <td>23438.44</td>\n",
       "    </tr>\n",
       "    <tr>\n",
       "      <th>4</th>\n",
       "      <td>2016-10-01</td>\n",
       "      <td>Concentrate/Extract</td>\n",
       "      <td>Jackson</td>\n",
       "      <td>31.27</td>\n",
       "      <td>95346.45</td>\n",
       "    </tr>\n",
       "    <tr>\n",
       "      <th>...</th>\n",
       "      <td>...</td>\n",
       "      <td>...</td>\n",
       "      <td>...</td>\n",
       "      <td>...</td>\n",
       "      <td>...</td>\n",
       "    </tr>\n",
       "    <tr>\n",
       "      <th>9509</th>\n",
       "      <td>2022-04-01</td>\n",
       "      <td>Usable MJ</td>\n",
       "      <td>Umatilla</td>\n",
       "      <td>44.69</td>\n",
       "      <td>646336.81</td>\n",
       "    </tr>\n",
       "    <tr>\n",
       "      <th>9510</th>\n",
       "      <td>2022-04-01</td>\n",
       "      <td>Usable MJ</td>\n",
       "      <td>Wallowa</td>\n",
       "      <td>52.89</td>\n",
       "      <td>48779.53</td>\n",
       "    </tr>\n",
       "    <tr>\n",
       "      <th>9511</th>\n",
       "      <td>2022-04-01</td>\n",
       "      <td>Usable MJ</td>\n",
       "      <td>Wasco</td>\n",
       "      <td>48.13</td>\n",
       "      <td>178133.02</td>\n",
       "    </tr>\n",
       "    <tr>\n",
       "      <th>9512</th>\n",
       "      <td>2022-04-01</td>\n",
       "      <td>Usable MJ</td>\n",
       "      <td>Washington</td>\n",
       "      <td>47.34</td>\n",
       "      <td>4298767.33</td>\n",
       "    </tr>\n",
       "    <tr>\n",
       "      <th>9513</th>\n",
       "      <td>2022-04-01</td>\n",
       "      <td>Usable MJ</td>\n",
       "      <td>Yamhill</td>\n",
       "      <td>45.68</td>\n",
       "      <td>777254.09</td>\n",
       "    </tr>\n",
       "  </tbody>\n",
       "</table>\n",
       "<p>9514 rows × 5 columns</p>\n",
       "</div>"
      ],
      "text/plain": [
       "     SalesMonthDate          ProductType      County  MarketShareCounty  \\\n",
       "0        2016-10-01  Concentrate/Extract   Clackamas              15.14   \n",
       "1        2016-10-01  Concentrate/Extract     Clatsop              19.55   \n",
       "2        2016-10-01  Concentrate/Extract   Deschutes              12.36   \n",
       "3        2016-10-01  Concentrate/Extract  Hood River              21.23   \n",
       "4        2016-10-01  Concentrate/Extract     Jackson              31.27   \n",
       "...             ...                  ...         ...                ...   \n",
       "9509     2022-04-01            Usable MJ    Umatilla              44.69   \n",
       "9510     2022-04-01            Usable MJ     Wallowa              52.89   \n",
       "9511     2022-04-01            Usable MJ       Wasco              48.13   \n",
       "9512     2022-04-01            Usable MJ  Washington              47.34   \n",
       "9513     2022-04-01            Usable MJ     Yamhill              45.68   \n",
       "\n",
       "           Sales  \n",
       "0         947.20  \n",
       "1       13057.00  \n",
       "2        9763.45  \n",
       "3       23438.44  \n",
       "4       95346.45  \n",
       "...          ...  \n",
       "9509   646336.81  \n",
       "9510    48779.53  \n",
       "9511   178133.02  \n",
       "9512  4298767.33  \n",
       "9513   777254.09  \n",
       "\n",
       "[9514 rows x 5 columns]"
      ]
     },
     "execution_count": 21,
     "metadata": {},
     "output_type": "execute_result"
    }
   ],
   "source": [
    "# Rename colunm names with camel style\n",
    "cannabis_df = cannabis_df.rename(columns={'Product Type': 'ProductType', 'Market Share County': 'MarketShareCounty'})\n",
    "cannabis_df"
   ]
  },
  {
   "cell_type": "code",
   "execution_count": 22,
   "id": "6034bc85",
   "metadata": {},
   "outputs": [
    {
     "data": {
      "text/plain": [
       "SalesMonthDate         67\n",
       "ProductType             7\n",
       "County                 31\n",
       "MarketShareCounty    3783\n",
       "Sales                9495\n",
       "dtype: int64"
      ]
     },
     "execution_count": 22,
     "metadata": {},
     "output_type": "execute_result"
    }
   ],
   "source": [
    "# Determine the number of unique values in each column.\n",
    "cannabis_df.nunique()"
   ]
  },
  {
   "cell_type": "code",
   "execution_count": 23,
   "id": "e31798b6",
   "metadata": {},
   "outputs": [
    {
     "data": {
      "text/plain": [
       "ProductType\n",
       "Concentrate/Extract                              1859\n",
       "Edible/Tincture                                  1859\n",
       "Industrial Hemp                                   231\n",
       "Industrial Hemp Commodity/Product                1462\n",
       "Inhalable Product with Non-Cannabis Additives     389\n",
       "Other                                            1851\n",
       "Usable MJ                                        1863\n",
       "Name: Sales, dtype: int64"
      ]
     },
     "execution_count": 23,
     "metadata": {},
     "output_type": "execute_result"
    }
   ],
   "source": [
    "# Look at Product Types \n",
    "product_types = cannabis_df.groupby([\"ProductType\"]).count()[\"Sales\"]\n",
    "product_types"
   ]
  },
  {
   "cell_type": "code",
   "execution_count": 24,
   "id": "b4334f39",
   "metadata": {},
   "outputs": [
    {
     "data": {
      "image/png": "[encoded data removed]",
      "text/plain": [
       "<Figure size 432x288 with 1 Axes>"
      ]
     },
     "metadata": {
      "needs_background": "light"
     },
     "output_type": "display_data"
    }
   ],
   "source": [
    "# Scatter plot ProductType vs Sales\n",
    "plt.scatter(cannabis_df.ProductType, cannabis_df.Sales)\n",
    "plt.xlabel('ProductType')\n",
    "plt.ylabel('Sales')\n",
    "plt.show()"
   ]
  },
  {
   "cell_type": "code",
   "execution_count": 9,
   "id": "4c5164e1",
   "metadata": {},
   "outputs": [
    {
     "data": {
      "image/png": "[encoded data removed]",
      "text/plain": [
       "<Figure size 432x288 with 1 Axes>"
      ]
     },
     "metadata": {
      "needs_background": "light"
     },
     "output_type": "display_data"
    }
   ],
   "source": [
    "# Bar plot ProductType vs Sales\n",
    "# the scatter plot really was just a bar graph, so...\n",
    "# needs better labels and formatting, descending order\n",
    "plt.bar(cannabis_df.ProductType, cannabis_df.Sales)\n",
    "plt.xlabel('ProductType')\n",
    "plt.ylabel('Sales')\n",
    "plt.show()"
   ]
  },
  {
   "cell_type": "code",
   "execution_count": 10,
   "id": "8cfc1e43",
   "metadata": {},
   "outputs": [
    {
     "data": {
      "image/png": "[encoded data removed]",
      "text/plain": [
       "<Figure size 432x288 with 1 Axes>"
      ]
     },
     "metadata": {
      "needs_background": "light"
     },
     "output_type": "display_data"
    }
   ],
   "source": [
    "# Scatter plot County vs Sales\n",
    "plt.scatter(cannabis_df.County, cannabis_df.Sales)\n",
    "plt.xlabel('County')\n",
    "plt.ylabel('Sales')\n",
    "plt.show()"
   ]
  },
  {
   "cell_type": "code",
   "execution_count": 11,
   "id": "110344d1",
   "metadata": {},
   "outputs": [
    {
     "data": {
      "image/png": "[encoded data removed]",
      "text/plain": [
       "<Figure size 432x288 with 1 Axes>"
      ]
     },
     "metadata": {
      "needs_background": "light"
     },
     "output_type": "display_data"
    }
   ],
   "source": [
    "# Bar plot County vs Sales\n",
    "# needs better formatting, descending order\n",
    "plt.bar(cannabis_df.County, cannabis_df.Sales)\n",
    "plt.xlabel('County')\n",
    "plt.ylabel('Sales')\n",
    "plt.show()"
   ]
  },
  {
   "cell_type": "code",
   "execution_count": 25,
   "id": "fe3d8384",
   "metadata": {},
   "outputs": [
    {
     "data": {
      "text/plain": [
       "ProductType     7\n",
       "County         31\n",
       "dtype: int64"
      ]
     },
     "execution_count": 25,
     "metadata": {},
     "output_type": "execute_result"
    }
   ],
   "source": [
    "# Generate our categorical variable lists\n",
    "cannabis_cat = cannabis_df.dtypes[cannabis_df.dtypes == \"object\"].index.tolist()\n",
    "# Check the number of unique values in each column\n",
    "cannabis_df[cannabis_cat].nunique()"
   ]
  },
  {
   "cell_type": "code",
   "execution_count": 26,
   "id": "797f2f28",
   "metadata": {},
   "outputs": [
    {
     "data": {
      "text/plain": [
       "SalesMonthDate         int64\n",
       "ProductType            int32\n",
       "County                 int32\n",
       "MarketShareCounty    float64\n",
       "Sales                float64\n",
       "dtype: object"
      ]
     },
     "execution_count": 26,
     "metadata": {},
     "output_type": "execute_result"
    }
   ],
   "source": [
    "# Encode Column Names to Numbers for ML\n",
    "le = LabelEncoder()\n",
    "cannabis_df2 = cannabis_df.copy()\n",
    "cannabis_df2['County'] = le.fit_transform(cannabis_df2['County'])\n",
    "cannabis_df2['ProductType'] = le.fit_transform(cannabis_df2['ProductType'])\n",
    "cannabis_df2['SalesMonthDate'] = le.fit_transform(cannabis_df2['SalesMonthDate'])\n",
    "cannabis_df2.dtypes\n"
   ]
  },
  {
   "cell_type": "code",
   "execution_count": 27,
   "id": "1cbeff5f",
   "metadata": {
    "scrolled": true
   },
   "outputs": [
    {
     "data": {
      "text/plain": [
       "array([[-2.03965020e+00, -1.32965513e+00, -1.39471268e+00,\n",
       "        -2.19575873e-01, -3.69133475e-01],\n",
       "       [-2.03965020e+00, -1.32965513e+00, -1.28337159e+00,\n",
       "        -1.56469984e-03, -3.59907222e-01],\n",
       "       [-2.03965020e+00, -1.32965513e+00, -8.38007254e-01,\n",
       "        -3.57006952e-01, -3.62416522e-01],\n",
       "       [-2.03965020e+00, -1.32965513e+00, -3.92642917e-01,\n",
       "         8.14871756e-02, -3.51997778e-01],\n",
       "       [-2.03965020e+00, -1.32965513e+00, -2.81301833e-01,\n",
       "         5.77821003e-01, -2.97212276e-01]])"
      ]
     },
     "execution_count": 27,
     "metadata": {},
     "output_type": "execute_result"
    }
   ],
   "source": [
    "# Scale the Data\n",
    "data_scaler = StandardScaler()\n",
    "cannabis_data_scaled = data_scaler.fit_transform(cannabis_df2)\n",
    "#cannabis_data_fit\n",
    "cannabis_data_scaled[:5]"
   ]
  },
  {
   "cell_type": "code",
   "execution_count": 28,
   "id": "2a069787",
   "metadata": {
    "scrolled": true
   },
   "outputs": [
    {
     "data": {
      "text/html": [
       "<div>\n",
       "<style scoped>\n",
       "    .dataframe tbody tr th:only-of-type {\n",
       "        vertical-align: middle;\n",
       "    }\n",
       "\n",
       "    .dataframe tbody tr th {\n",
       "        vertical-align: top;\n",
       "    }\n",
       "\n",
       "    .dataframe thead th {\n",
       "        text-align: right;\n",
       "    }\n",
       "</style>\n",
       "<table border=\"1\" class=\"dataframe\">\n",
       "  <thead>\n",
       "    <tr style=\"text-align: right;\">\n",
       "      <th></th>\n",
       "      <th>ProductType_0</th>\n",
       "      <th>ProductType_1</th>\n",
       "      <th>ProductType_2</th>\n",
       "      <th>ProductType_3</th>\n",
       "      <th>ProductType_4</th>\n",
       "      <th>ProductType_5</th>\n",
       "      <th>ProductType_6</th>\n",
       "      <th>County_0</th>\n",
       "      <th>County_1</th>\n",
       "      <th>County_2</th>\n",
       "      <th>...</th>\n",
       "      <th>County_21</th>\n",
       "      <th>County_22</th>\n",
       "      <th>County_23</th>\n",
       "      <th>County_24</th>\n",
       "      <th>County_25</th>\n",
       "      <th>County_26</th>\n",
       "      <th>County_27</th>\n",
       "      <th>County_28</th>\n",
       "      <th>County_29</th>\n",
       "      <th>County_30</th>\n",
       "    </tr>\n",
       "  </thead>\n",
       "  <tbody>\n",
       "    <tr>\n",
       "      <th>0</th>\n",
       "      <td>1.0</td>\n",
       "      <td>0.0</td>\n",
       "      <td>0.0</td>\n",
       "      <td>0.0</td>\n",
       "      <td>0.0</td>\n",
       "      <td>0.0</td>\n",
       "      <td>0.0</td>\n",
       "      <td>0.0</td>\n",
       "      <td>0.0</td>\n",
       "      <td>1.0</td>\n",
       "      <td>...</td>\n",
       "      <td>0.0</td>\n",
       "      <td>0.0</td>\n",
       "      <td>0.0</td>\n",
       "      <td>0.0</td>\n",
       "      <td>0.0</td>\n",
       "      <td>0.0</td>\n",
       "      <td>0.0</td>\n",
       "      <td>0.0</td>\n",
       "      <td>0.0</td>\n",
       "      <td>0.0</td>\n",
       "    </tr>\n",
       "    <tr>\n",
       "      <th>1</th>\n",
       "      <td>1.0</td>\n",
       "      <td>0.0</td>\n",
       "      <td>0.0</td>\n",
       "      <td>0.0</td>\n",
       "      <td>0.0</td>\n",
       "      <td>0.0</td>\n",
       "      <td>0.0</td>\n",
       "      <td>0.0</td>\n",
       "      <td>0.0</td>\n",
       "      <td>0.0</td>\n",
       "      <td>...</td>\n",
       "      <td>0.0</td>\n",
       "      <td>0.0</td>\n",
       "      <td>0.0</td>\n",
       "      <td>0.0</td>\n",
       "      <td>0.0</td>\n",
       "      <td>0.0</td>\n",
       "      <td>0.0</td>\n",
       "      <td>0.0</td>\n",
       "      <td>0.0</td>\n",
       "      <td>0.0</td>\n",
       "    </tr>\n",
       "    <tr>\n",
       "      <th>2</th>\n",
       "      <td>1.0</td>\n",
       "      <td>0.0</td>\n",
       "      <td>0.0</td>\n",
       "      <td>0.0</td>\n",
       "      <td>0.0</td>\n",
       "      <td>0.0</td>\n",
       "      <td>0.0</td>\n",
       "      <td>0.0</td>\n",
       "      <td>0.0</td>\n",
       "      <td>0.0</td>\n",
       "      <td>...</td>\n",
       "      <td>0.0</td>\n",
       "      <td>0.0</td>\n",
       "      <td>0.0</td>\n",
       "      <td>0.0</td>\n",
       "      <td>0.0</td>\n",
       "      <td>0.0</td>\n",
       "      <td>0.0</td>\n",
       "      <td>0.0</td>\n",
       "      <td>0.0</td>\n",
       "      <td>0.0</td>\n",
       "    </tr>\n",
       "    <tr>\n",
       "      <th>3</th>\n",
       "      <td>1.0</td>\n",
       "      <td>0.0</td>\n",
       "      <td>0.0</td>\n",
       "      <td>0.0</td>\n",
       "      <td>0.0</td>\n",
       "      <td>0.0</td>\n",
       "      <td>0.0</td>\n",
       "      <td>0.0</td>\n",
       "      <td>0.0</td>\n",
       "      <td>0.0</td>\n",
       "      <td>...</td>\n",
       "      <td>0.0</td>\n",
       "      <td>0.0</td>\n",
       "      <td>0.0</td>\n",
       "      <td>0.0</td>\n",
       "      <td>0.0</td>\n",
       "      <td>0.0</td>\n",
       "      <td>0.0</td>\n",
       "      <td>0.0</td>\n",
       "      <td>0.0</td>\n",
       "      <td>0.0</td>\n",
       "    </tr>\n",
       "    <tr>\n",
       "      <th>4</th>\n",
       "      <td>1.0</td>\n",
       "      <td>0.0</td>\n",
       "      <td>0.0</td>\n",
       "      <td>0.0</td>\n",
       "      <td>0.0</td>\n",
       "      <td>0.0</td>\n",
       "      <td>0.0</td>\n",
       "      <td>0.0</td>\n",
       "      <td>0.0</td>\n",
       "      <td>0.0</td>\n",
       "      <td>...</td>\n",
       "      <td>0.0</td>\n",
       "      <td>0.0</td>\n",
       "      <td>0.0</td>\n",
       "      <td>0.0</td>\n",
       "      <td>0.0</td>\n",
       "      <td>0.0</td>\n",
       "      <td>0.0</td>\n",
       "      <td>0.0</td>\n",
       "      <td>0.0</td>\n",
       "      <td>0.0</td>\n",
       "    </tr>\n",
       "  </tbody>\n",
       "</table>\n",
       "<p>5 rows × 38 columns</p>\n",
       "</div>"
      ],
      "text/plain": [
       "   ProductType_0  ProductType_1  ProductType_2  ProductType_3  ProductType_4  \\\n",
       "0            1.0            0.0            0.0            0.0            0.0   \n",
       "1            1.0            0.0            0.0            0.0            0.0   \n",
       "2            1.0            0.0            0.0            0.0            0.0   \n",
       "3            1.0            0.0            0.0            0.0            0.0   \n",
       "4            1.0            0.0            0.0            0.0            0.0   \n",
       "\n",
       "   ProductType_5  ProductType_6  County_0  County_1  County_2  ...  County_21  \\\n",
       "0            0.0            0.0       0.0       0.0       1.0  ...        0.0   \n",
       "1            0.0            0.0       0.0       0.0       0.0  ...        0.0   \n",
       "2            0.0            0.0       0.0       0.0       0.0  ...        0.0   \n",
       "3            0.0            0.0       0.0       0.0       0.0  ...        0.0   \n",
       "4            0.0            0.0       0.0       0.0       0.0  ...        0.0   \n",
       "\n",
       "   County_22  County_23  County_24  County_25  County_26  County_27  \\\n",
       "0        0.0        0.0        0.0        0.0        0.0        0.0   \n",
       "1        0.0        0.0        0.0        0.0        0.0        0.0   \n",
       "2        0.0        0.0        0.0        0.0        0.0        0.0   \n",
       "3        0.0        0.0        0.0        0.0        0.0        0.0   \n",
       "4        0.0        0.0        0.0        0.0        0.0        0.0   \n",
       "\n",
       "   County_28  County_29  County_30  \n",
       "0        0.0        0.0        0.0  \n",
       "1        0.0        0.0        0.0  \n",
       "2        0.0        0.0        0.0  \n",
       "3        0.0        0.0        0.0  \n",
       "4        0.0        0.0        0.0  \n",
       "\n",
       "[5 rows x 38 columns]"
      ]
     },
     "execution_count": 28,
     "metadata": {},
     "output_type": "execute_result"
    }
   ],
   "source": [
    "# Create a OneHotEncoder instance\n",
    "enc = OneHotEncoder(sparse=False)\n",
    "\n",
    "# Fit and transform the OneHotEncoder using the categorical variable list\n",
    "encode_df = pd.DataFrame(enc.fit_transform(cannabis_df2[cannabis_cat]))\n",
    "\n",
    "# Add the encoded variable names to the dataframe\n",
    "encode_df.columns = enc.get_feature_names(cannabis_cat)\n",
    "encode_df.head()"
   ]
  },
  {
   "cell_type": "code",
   "execution_count": 35,
   "id": "df8d2297",
   "metadata": {},
   "outputs": [],
   "source": [
    "# Split our preprocessed data into our features and target arrays\n",
    "X = cannabis_df2.Sales.values \n",
    "y = cannabis_df2.drop(columns=[\"Sales\"]).values\n",
    "\n",
    "# Split the preprocessed data into a training and testing dataset\n",
    "X_train, X_test, y_train, y_test = train_test_split(X, y, random_state=33)"
   ]
  },
  {
   "cell_type": "code",
   "execution_count": null,
   "id": "c2442a28",
   "metadata": {},
   "outputs": [],
   "source": []
  }
 ],
 "metadata": {
  "kernelspec": {
   "display_name": "mlenv",
   "language": "python",
   "name": "mlenv"
  },
  "language_info": {
   "codemirror_mode": {
    "name": "ipython",
    "version": 3
   },
   "file_extension": ".py",
   "mimetype": "text/x-python",
   "name": "python",
   "nbconvert_exporter": "python",
   "pygments_lexer": "ipython3",
   "version": "3.7.11"
  }
 },
 "nbformat": 4,
 "nbformat_minor": 5
}
